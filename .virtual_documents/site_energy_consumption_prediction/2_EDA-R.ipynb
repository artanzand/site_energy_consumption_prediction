import rpy2.robjects.packages as rpackages
get_ipython().run_line_magic("load_ext", " rpy2.ipython")

utils = rpackages.importr('utils')
utils.chooseCRANmirror(ind=1) # select the first mirror in the list

packnames = ('ggplot2', 'tidyverse')
from rpy2.robjects.vectors import StrVector

# Selectively install what needs to be install.
# We are fancy, just because we can.
names_to_install = [x for x in packnames if not rpackages.isinstalled(x)]
if len(names_to_install) > 0:
    utils.install_packages(StrVector(names_to_install))
    


rpy2.ipython.rmagic.RMagics.R("""library(tidyverse)
library(ggplot2)""", "")


train_df = read_csv('data/widsdatathon2022/train.csv')
head(train_df)



