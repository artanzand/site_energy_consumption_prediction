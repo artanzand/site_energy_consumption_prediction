{
 "cells": [
  {
   "cell_type": "markdown",
   "metadata": {},
   "source": [
    "# Appendix"
   ]
  },
  {
   "cell_type": "markdown",
   "metadata": {},
   "source": [
    "## Energy star rating\n",
    "\n",
    "[Link to \"How the 1-100 ENERGY STAR Score is Calculated\"](https://www.energystar.gov/buildings/benchmark/understand_metrics/how_score_calculated)\n",
    "\n",
    "### National Survey Data Powers the Statistical Engine\n",
    "Approximately every four years, the U.S. Department of Energy’s Energy Information Administration (EIA) conducts a national survey to gather data on building characteristics and energy use from thousands of buildings across the United States. This Commercial Building Energy Consumption Survey (CBECS) is the only national-level source of data on the characteristics and energy use of commercial buildings in the United States. For most property types, your building’s peer group for comparison consists of those buildings in the CBECS survey that are similar to yours. For a few property types, such as hospitals and senior living communities, industry associations took the lead and conducted surveys to gather the information necessary to create a robust data sample.\n",
    "\n",
    "### How to score\n",
    "EPA uses CBECS as the foundation for the majority of the 1 – 100 ENERGY STAR scores. These surveys are based on samples that represent the national building stock. [Search: Principal building activity](https://www.eia.gov/consumption/commercial/data/2018/pdf/CBECS_2018_Building_Characteristics_Flipbook.pdf)  \n",
    "\n",
    "Based on the information you enter about your building, such as its size, location, number of occupants, number of PCs, etc., the score’s algorithm estimates how much energy the building would use if it were the best performing, the worst performing, and every level in between. It then compares the actual energy data you entered to the estimate to determine where your building ranks relative to its peers.\n",
    "\n",
    "**All of the calculations are based on source energy and account for the impact of weather variations, as well as changes in key property use details**"
   ]
  },
  {
   "cell_type": "markdown",
   "metadata": {},
   "source": [
    "Imputation:\n",
    "- Feels like predict Energy star rate = predict target\n",
    "- Try Dropping the column\n",
    "Three Sklearn Imputer:\n",
    "- Try SimpleImputer()\n",
    "- Try KNNImputer()\n",
    "- Try IterativeImputer() (MICE)"
   ]
  }
 ],
 "metadata": {
  "kernelspec": {
   "display_name": "Python 3 (ipykernel)",
   "language": "python",
   "name": "python3"
  },
  "language_info": {
   "codemirror_mode": {
    "name": "ipython",
    "version": 3
   },
   "file_extension": ".py",
   "mimetype": "text/x-python",
   "name": "python",
   "nbconvert_exporter": "python",
   "pygments_lexer": "ipython3",
   "version": "3.9.9"
  },
  "widgets": {
   "application/vnd.jupyter.widget-state+json": {
    "state": {},
    "version_major": 2,
    "version_minor": 0
   }
  }
 },
 "nbformat": 4,
 "nbformat_minor": 4
}
