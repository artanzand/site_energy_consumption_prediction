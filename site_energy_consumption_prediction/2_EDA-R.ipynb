{
 "cells": [
  {
   "cell_type": "markdown",
   "id": "5c7f5eba-6501-42e4-bb75-e2c0c737d8ee",
   "metadata": {},
   "source": [
    "# EDA on R\n",
    "## Data Import\n",
    "\n",
    "For basic data profile, please check out [Profile Report]('ProfileReport_mini.html')"
   ]
  },
  {
   "cell_type": "code",
   "execution_count": 1,
   "id": "442f9e64-c82f-4d68-b083-62b02c32eaf5",
   "metadata": {},
   "outputs": [
    {
     "name": "stderr",
     "output_type": "stream",
     "text": [
      "── \u001b[1mAttaching packages\u001b[22m ─────────────────────────────────────── tidyverse 1.3.1 ──\n",
      "\n",
      "\u001b[32m✔\u001b[39m \u001b[34mggplot2\u001b[39m 3.3.5     \u001b[32m✔\u001b[39m \u001b[34mpurrr  \u001b[39m 0.3.4\n",
      "\u001b[32m✔\u001b[39m \u001b[34mtibble \u001b[39m 3.1.6     \u001b[32m✔\u001b[39m \u001b[34mdplyr  \u001b[39m 1.0.7\n",
      "\u001b[32m✔\u001b[39m \u001b[34mtidyr  \u001b[39m 1.1.4     \u001b[32m✔\u001b[39m \u001b[34mstringr\u001b[39m 1.4.0\n",
      "\u001b[32m✔\u001b[39m \u001b[34mreadr  \u001b[39m 2.1.1     \u001b[32m✔\u001b[39m \u001b[34mforcats\u001b[39m 0.5.1\n",
      "\n",
      "── \u001b[1mConflicts\u001b[22m ────────────────────────────────────────── tidyverse_conflicts() ──\n",
      "\u001b[31m✖\u001b[39m \u001b[34mdplyr\u001b[39m::\u001b[32mfilter()\u001b[39m masks \u001b[34mstats\u001b[39m::filter()\n",
      "\u001b[31m✖\u001b[39m \u001b[34mdplyr\u001b[39m::\u001b[32mlag()\u001b[39m    masks \u001b[34mstats\u001b[39m::lag()\n",
      "\n"
     ]
    }
   ],
   "source": [
    "#%%R\n",
    "library(tidyverse)\n",
    "library(ggplot2)"
   ]
  },
  {
   "cell_type": "code",
   "execution_count": 2,
   "id": "6a7580e5-e259-481a-a662-106d66dcc4d8",
   "metadata": {},
   "outputs": [
    {
     "name": "stderr",
     "output_type": "stream",
     "text": [
      "\u001b[1mRows: \u001b[22m\u001b[34m75757\u001b[39m \u001b[1mColumns: \u001b[22m\u001b[34m64\u001b[39m\n",
      "\n",
      "\u001b[36m──\u001b[39m \u001b[1mColumn specification\u001b[22m \u001b[36m────────────────────────────────────────────────────────\u001b[39m\n",
      "\u001b[1mDelimiter:\u001b[22m \",\"\n",
      "\u001b[31mchr\u001b[39m  (3): State_Factor, building_class, facility_type\n",
      "\u001b[32mdbl\u001b[39m (61): Year_Factor, floor_area, year_built, energy_star_rating, ELEVATION...\n",
      "\n",
      "\n",
      "\u001b[36mℹ\u001b[39m Use \u001b[30m\u001b[47m\u001b[30m\u001b[47m`spec()`\u001b[47m\u001b[30m\u001b[49m\u001b[39m to retrieve the full column specification for this data.\n",
      "\u001b[36mℹ\u001b[39m Specify the column types or set \u001b[30m\u001b[47m\u001b[30m\u001b[47m`show_col_types = FALSE`\u001b[47m\u001b[30m\u001b[49m\u001b[39m to quiet this message.\n",
      "\n"
     ]
    },
    {
     "data": {
      "text/html": [
       "<table class=\"dataframe\">\n",
       "<caption>A tibble: 6 × 64</caption>\n",
       "<thead>\n",
       "\t<tr><th scope=col>Year_Factor</th><th scope=col>State_Factor</th><th scope=col>building_class</th><th scope=col>facility_type</th><th scope=col>floor_area</th><th scope=col>year_built</th><th scope=col>energy_star_rating</th><th scope=col>ELEVATION</th><th scope=col>january_min_temp</th><th scope=col>january_avg_temp</th><th scope=col>⋯</th><th scope=col>days_above_80F</th><th scope=col>days_above_90F</th><th scope=col>days_above_100F</th><th scope=col>days_above_110F</th><th scope=col>direction_max_wind_speed</th><th scope=col>direction_peak_wind_speed</th><th scope=col>max_wind_speed</th><th scope=col>days_with_fog</th><th scope=col>site_eui</th><th scope=col>id</th></tr>\n",
       "\t<tr><th scope=col>&lt;dbl&gt;</th><th scope=col>&lt;chr&gt;</th><th scope=col>&lt;chr&gt;</th><th scope=col>&lt;chr&gt;</th><th scope=col>&lt;dbl&gt;</th><th scope=col>&lt;dbl&gt;</th><th scope=col>&lt;dbl&gt;</th><th scope=col>&lt;dbl&gt;</th><th scope=col>&lt;dbl&gt;</th><th scope=col>&lt;dbl&gt;</th><th scope=col>⋯</th><th scope=col>&lt;dbl&gt;</th><th scope=col>&lt;dbl&gt;</th><th scope=col>&lt;dbl&gt;</th><th scope=col>&lt;dbl&gt;</th><th scope=col>&lt;dbl&gt;</th><th scope=col>&lt;dbl&gt;</th><th scope=col>&lt;dbl&gt;</th><th scope=col>&lt;dbl&gt;</th><th scope=col>&lt;dbl&gt;</th><th scope=col>&lt;dbl&gt;</th></tr>\n",
       "</thead>\n",
       "<tbody>\n",
       "\t<tr><td>1</td><td>State_1</td><td>Commercial</td><td>Grocery_store_or_food_market             </td><td> 61242</td><td>1942</td><td> 11</td><td>2.4</td><td>36</td><td>50.5</td><td>⋯</td><td>14</td><td>0</td><td>0</td><td>0</td><td>1</td><td> 1</td><td>1</td><td>NA</td><td>248.682615</td><td>0</td></tr>\n",
       "\t<tr><td>1</td><td>State_1</td><td>Commercial</td><td>Warehouse_Distribution_or_Shipping_center</td><td>274000</td><td>1955</td><td> 45</td><td>1.8</td><td>36</td><td>50.5</td><td>⋯</td><td>14</td><td>0</td><td>0</td><td>0</td><td>1</td><td>NA</td><td>1</td><td>12</td><td> 26.500150</td><td>1</td></tr>\n",
       "\t<tr><td>1</td><td>State_1</td><td>Commercial</td><td>Retail_Enclosed_mall                     </td><td>280025</td><td>1951</td><td> 97</td><td>1.8</td><td>36</td><td>50.5</td><td>⋯</td><td>14</td><td>0</td><td>0</td><td>0</td><td>1</td><td>NA</td><td>1</td><td>12</td><td> 24.693619</td><td>2</td></tr>\n",
       "\t<tr><td>1</td><td>State_1</td><td>Commercial</td><td>Education_Other_classroom                </td><td> 55325</td><td>1980</td><td> 46</td><td>1.8</td><td>36</td><td>50.5</td><td>⋯</td><td>14</td><td>0</td><td>0</td><td>0</td><td>1</td><td>NA</td><td>1</td><td>12</td><td> 48.406926</td><td>3</td></tr>\n",
       "\t<tr><td>1</td><td>State_1</td><td>Commercial</td><td>Warehouse_Nonrefrigerated                </td><td> 66000</td><td>1985</td><td>100</td><td>2.4</td><td>36</td><td>50.5</td><td>⋯</td><td>14</td><td>0</td><td>0</td><td>0</td><td>1</td><td> 1</td><td>1</td><td>NA</td><td>  3.899395</td><td>4</td></tr>\n",
       "\t<tr><td>1</td><td>State_1</td><td>Commercial</td><td>Warehouse_Selfstorage                    </td><td>119900</td><td>1956</td><td> NA</td><td>2.4</td><td>36</td><td>50.5</td><td>⋯</td><td>14</td><td>0</td><td>0</td><td>0</td><td>1</td><td> 1</td><td>1</td><td>NA</td><td>  6.597715</td><td>5</td></tr>\n",
       "</tbody>\n",
       "</table>\n"
      ],
      "text/latex": [
       "A tibble: 6 × 64\n",
       "\\begin{tabular}{lllllllllllllllllllll}\n",
       " Year\\_Factor & State\\_Factor & building\\_class & facility\\_type & floor\\_area & year\\_built & energy\\_star\\_rating & ELEVATION & january\\_min\\_temp & january\\_avg\\_temp & ⋯ & days\\_above\\_80F & days\\_above\\_90F & days\\_above\\_100F & days\\_above\\_110F & direction\\_max\\_wind\\_speed & direction\\_peak\\_wind\\_speed & max\\_wind\\_speed & days\\_with\\_fog & site\\_eui & id\\\\\n",
       " <dbl> & <chr> & <chr> & <chr> & <dbl> & <dbl> & <dbl> & <dbl> & <dbl> & <dbl> & ⋯ & <dbl> & <dbl> & <dbl> & <dbl> & <dbl> & <dbl> & <dbl> & <dbl> & <dbl> & <dbl>\\\\\n",
       "\\hline\n",
       "\t 1 & State\\_1 & Commercial & Grocery\\_store\\_or\\_food\\_market              &  61242 & 1942 &  11 & 2.4 & 36 & 50.5 & ⋯ & 14 & 0 & 0 & 0 & 1 &  1 & 1 & NA & 248.682615 & 0\\\\\n",
       "\t 1 & State\\_1 & Commercial & Warehouse\\_Distribution\\_or\\_Shipping\\_center & 274000 & 1955 &  45 & 1.8 & 36 & 50.5 & ⋯ & 14 & 0 & 0 & 0 & 1 & NA & 1 & 12 &  26.500150 & 1\\\\\n",
       "\t 1 & State\\_1 & Commercial & Retail\\_Enclosed\\_mall                      & 280025 & 1951 &  97 & 1.8 & 36 & 50.5 & ⋯ & 14 & 0 & 0 & 0 & 1 & NA & 1 & 12 &  24.693619 & 2\\\\\n",
       "\t 1 & State\\_1 & Commercial & Education\\_Other\\_classroom                 &  55325 & 1980 &  46 & 1.8 & 36 & 50.5 & ⋯ & 14 & 0 & 0 & 0 & 1 & NA & 1 & 12 &  48.406926 & 3\\\\\n",
       "\t 1 & State\\_1 & Commercial & Warehouse\\_Nonrefrigerated                 &  66000 & 1985 & 100 & 2.4 & 36 & 50.5 & ⋯ & 14 & 0 & 0 & 0 & 1 &  1 & 1 & NA &   3.899395 & 4\\\\\n",
       "\t 1 & State\\_1 & Commercial & Warehouse\\_Selfstorage                     & 119900 & 1956 &  NA & 2.4 & 36 & 50.5 & ⋯ & 14 & 0 & 0 & 0 & 1 &  1 & 1 & NA &   6.597715 & 5\\\\\n",
       "\\end{tabular}\n"
      ],
      "text/markdown": [
       "\n",
       "A tibble: 6 × 64\n",
       "\n",
       "| Year_Factor &lt;dbl&gt; | State_Factor &lt;chr&gt; | building_class &lt;chr&gt; | facility_type &lt;chr&gt; | floor_area &lt;dbl&gt; | year_built &lt;dbl&gt; | energy_star_rating &lt;dbl&gt; | ELEVATION &lt;dbl&gt; | january_min_temp &lt;dbl&gt; | january_avg_temp &lt;dbl&gt; | ⋯ ⋯ | days_above_80F &lt;dbl&gt; | days_above_90F &lt;dbl&gt; | days_above_100F &lt;dbl&gt; | days_above_110F &lt;dbl&gt; | direction_max_wind_speed &lt;dbl&gt; | direction_peak_wind_speed &lt;dbl&gt; | max_wind_speed &lt;dbl&gt; | days_with_fog &lt;dbl&gt; | site_eui &lt;dbl&gt; | id &lt;dbl&gt; |\n",
       "|---|---|---|---|---|---|---|---|---|---|---|---|---|---|---|---|---|---|---|---|---|\n",
       "| 1 | State_1 | Commercial | Grocery_store_or_food_market              |  61242 | 1942 |  11 | 2.4 | 36 | 50.5 | ⋯ | 14 | 0 | 0 | 0 | 1 |  1 | 1 | NA | 248.682615 | 0 |\n",
       "| 1 | State_1 | Commercial | Warehouse_Distribution_or_Shipping_center | 274000 | 1955 |  45 | 1.8 | 36 | 50.5 | ⋯ | 14 | 0 | 0 | 0 | 1 | NA | 1 | 12 |  26.500150 | 1 |\n",
       "| 1 | State_1 | Commercial | Retail_Enclosed_mall                      | 280025 | 1951 |  97 | 1.8 | 36 | 50.5 | ⋯ | 14 | 0 | 0 | 0 | 1 | NA | 1 | 12 |  24.693619 | 2 |\n",
       "| 1 | State_1 | Commercial | Education_Other_classroom                 |  55325 | 1980 |  46 | 1.8 | 36 | 50.5 | ⋯ | 14 | 0 | 0 | 0 | 1 | NA | 1 | 12 |  48.406926 | 3 |\n",
       "| 1 | State_1 | Commercial | Warehouse_Nonrefrigerated                 |  66000 | 1985 | 100 | 2.4 | 36 | 50.5 | ⋯ | 14 | 0 | 0 | 0 | 1 |  1 | 1 | NA |   3.899395 | 4 |\n",
       "| 1 | State_1 | Commercial | Warehouse_Selfstorage                     | 119900 | 1956 |  NA | 2.4 | 36 | 50.5 | ⋯ | 14 | 0 | 0 | 0 | 1 |  1 | 1 | NA |   6.597715 | 5 |\n",
       "\n"
      ],
      "text/plain": [
       "  Year_Factor State_Factor building_class\n",
       "1 1           State_1      Commercial    \n",
       "2 1           State_1      Commercial    \n",
       "3 1           State_1      Commercial    \n",
       "4 1           State_1      Commercial    \n",
       "5 1           State_1      Commercial    \n",
       "6 1           State_1      Commercial    \n",
       "  facility_type                             floor_area year_built\n",
       "1 Grocery_store_or_food_market               61242     1942      \n",
       "2 Warehouse_Distribution_or_Shipping_center 274000     1955      \n",
       "3 Retail_Enclosed_mall                      280025     1951      \n",
       "4 Education_Other_classroom                  55325     1980      \n",
       "5 Warehouse_Nonrefrigerated                  66000     1985      \n",
       "6 Warehouse_Selfstorage                     119900     1956      \n",
       "  energy_star_rating ELEVATION january_min_temp january_avg_temp ⋯\n",
       "1  11                2.4       36               50.5             ⋯\n",
       "2  45                1.8       36               50.5             ⋯\n",
       "3  97                1.8       36               50.5             ⋯\n",
       "4  46                1.8       36               50.5             ⋯\n",
       "5 100                2.4       36               50.5             ⋯\n",
       "6  NA                2.4       36               50.5             ⋯\n",
       "  days_above_80F days_above_90F days_above_100F days_above_110F\n",
       "1 14             0              0               0              \n",
       "2 14             0              0               0              \n",
       "3 14             0              0               0              \n",
       "4 14             0              0               0              \n",
       "5 14             0              0               0              \n",
       "6 14             0              0               0              \n",
       "  direction_max_wind_speed direction_peak_wind_speed max_wind_speed\n",
       "1 1                         1                        1             \n",
       "2 1                        NA                        1             \n",
       "3 1                        NA                        1             \n",
       "4 1                        NA                        1             \n",
       "5 1                         1                        1             \n",
       "6 1                         1                        1             \n",
       "  days_with_fog site_eui   id\n",
       "1 NA            248.682615 0 \n",
       "2 12             26.500150 1 \n",
       "3 12             24.693619 2 \n",
       "4 12             48.406926 3 \n",
       "5 NA              3.899395 4 \n",
       "6 NA              6.597715 5 "
      ]
     },
     "metadata": {},
     "output_type": "display_data"
    }
   ],
   "source": [
    "train_df = read_csv('data/widsdatathon2022/train.csv')\n",
    "head(train_df)"
   ]
  },
  {
   "cell_type": "code",
   "execution_count": null,
   "id": "766b501b-4630-4f60-8330-e9974d77cfd2",
   "metadata": {},
   "outputs": [],
   "source": []
  }
 ],
 "metadata": {
  "kernelspec": {
   "display_name": "R",
   "language": "R",
   "name": "ir"
  },
  "language_info": {
   "codemirror_mode": "r",
   "file_extension": ".r",
   "mimetype": "text/x-r-source",
   "name": "R",
   "pygments_lexer": "r",
   "version": "4.1.1"
  }
 },
 "nbformat": 4,
 "nbformat_minor": 5
}
